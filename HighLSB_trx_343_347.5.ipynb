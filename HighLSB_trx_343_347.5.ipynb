{
 "cells": [
  {
   "cell_type": "code",
   "execution_count": 1,
   "metadata": {},
   "outputs": [],
   "source": [
    "import pandas as pd\n",
    "import numpy as np\n",
    "import matplotlib.pyplot as plt\n",
    "from mpl_toolkits.mplot3d.axes3d import Axes3D\n",
    "import math\n",
    "from scipy.interpolate import *\n",
    "%matplotlib inline"
   ]
  },
  {
   "cell_type": "code",
   "execution_count": 2,
   "metadata": {},
   "outputs": [],
   "source": [
    "X= ['02','03','04','05','06','07','08','09','10','11','12','15'] #receptor number of H it start from 0\n",
    "\n",
    "H1=pd.read_csv('/export/data/imizuno/Python_Analysis/wvmmatched/wvmmatched_H01LSB.txt', index_col=0)\n",
    "H1['recep']='H01'  #H00 doesn't use since it's not working now\n",
    "\n",
    "for i in np.arange(12):\n",
    "\n",
    "    HX=pd.read_csv('/export/data/imizuno/Python_Analysis/wvmmatched/wvmmatched_H'+ X[i] + 'LSB.txt', index_col=0)\n",
    "\n",
    "    HX['recep']=X[i]\n",
    "\n",
    "    H1=H1.append(HX)\n",
    "    \n",
    "HLSB=H1"
   ]
  },
  {
   "cell_type": "code",
   "execution_count": 3,
   "metadata": {},
   "outputs": [
    {
     "data": {
      "text/plain": [
       "[<matplotlib.lines.Line2D at 0x7ff3127305c0>]"
      ]
     },
     "execution_count": 3,
     "metadata": {},
     "output_type": "execute_result"
    },
    {
     "data": {
      "image/png": "[encoded data removed]",
      "text/plain": [
       "<matplotlib.figure.Figure at 0x7ff313b0d198>"
      ]
     },
     "metadata": {},
     "output_type": "display_data"
    }
   ],
   "source": [
    "plt.plot(HLSB.recep[(HLSB.lofreq>343)&(HLSB.lofreq<347.5)&(HLSB.trx>300)],'o',)"
   ]
  },
  {
   "cell_type": "code",
   "execution_count": 6,
   "metadata": {},
   "outputs": [
    {
     "name": "stdout",
     "output_type": "stream",
     "text": [
      "trx over 300 at lofreq > 343 98.85057471264368 %\n"
     ]
    }
   ],
   "source": [
    "high_len=len(HLSB.recep[(HLSB.lofreq>343)&(HLSB.lofreq<347.5)&(HLSB.trx>300)&(HLSB.recep=='15')])\n",
    "total_len=len(HLSB.recep[(HLSB.lofreq>343)&(HLSB.lofreq<347.5)&(HLSB.recep=='15')])\n",
    "rate= high_len*100/total_len                      \n",
    "print('trx over 300 at lofreq > 343', rate ,'%')"
   ]
  },
  {
   "cell_type": "code",
   "execution_count": 7,
   "metadata": {},
   "outputs": [
    {
     "name": "stdout",
     "output_type": "stream",
     "text": [
      "total observation number 87\n"
     ]
    }
   ],
   "source": [
    "print('total observation number', total_len)"
   ]
  },
  {
   "cell_type": "code",
   "execution_count": 9,
   "metadata": {},
   "outputs": [
    {
     "data": {
      "text/plain": [
       "<matplotlib.collections.PathCollection at 0x7ff312519c50>"
      ]
     },
     "execution_count": 9,
     "metadata": {},
     "output_type": "execute_result"
    },
    {
     "data": {
      "image/png": "[encoded data removed]",
      "text/plain": [
       "<matplotlib.figure.Figure at 0x7ff3124f6780>"
      ]
     },
     "metadata": {},
     "output_type": "display_data"
    }
   ],
   "source": [
    "H15_343_347=HLSB[(HLSB.lofreq>343)&(HLSB.lofreq<347.5)&(HLSB.recep=='15')]\n",
    "plt.scatter(H15_343_347.utc, H15_343_347.trx)"
   ]
  }
 ],
 "metadata": {
  "kernelspec": {
   "display_name": "Python 3",
   "language": "python",
   "name": "python3"
  },
  "language_info": {
   "codemirror_mode": {
    "name": "ipython",
    "version": 3
   },
   "file_extension": ".py",
   "mimetype": "text/x-python",
   "name": "python",
   "nbconvert_exporter": "python",
   "pygments_lexer": "ipython3",
   "version": "3.5.1"
  }
 },
 "nbformat": 4,
 "nbformat_minor": 2
}
